{
 "cells": [
  {
   "cell_type": "markdown",
   "metadata": {},
   "source": [
    "## 作業:\n",
    "在課堂中，檢定 $𝐻_0:𝜇≤0$、$𝐻_1:𝜇>0$ ，假設在 $𝐻_0$ 為真下，分配為 N(0,1)， $𝐻_1$ 為真下，分配為 N(2,1)。      \n",
    "假設 $𝑋 ̅  \\geq 1$，拒絕 $𝐻_0$ 。         \n",
    "如果拒絕域改變時，Type I Error $𝛼$ 和 Type II Error $𝛽$ 會怎樣變化，       \n",
    "\n",
    "![Image](Day_32_Image_(mean1).png)\n",
    "可以拿起一張紙，試著畫畫看，就能找到答案。"
   ]
  },
  {
   "cell_type": "markdown",
   "metadata": {},
   "source": [
    "### Q1: 假設 $𝑋 ̅  > 2$ ，拒絕 $𝐻_0$，$\\alpha$ 會變大/變小?  $\\beta$ 會變大/變小? \n",
    "\n",
    "![Image](Day_32_Image_(mean2).png)\n",
    "\n",
    "### Ans: $\\alpha$ 變小、$\\beta$ 變大。"
   ]
  },
  {
   "cell_type": "markdown",
   "metadata": {},
   "source": [
    "### Q2: 假設 $𝑋 ̅  > 0.2$，拒絕 𝐻_0，$\\alpha$ 會變大/變小? $\\beta$ 會變大/變小? \n",
    "\n",
    "![Image](Day_32_Image_(mean0.2).png)\n",
    "\n",
    "### Ans: $\\alpha$ 變大、$\\beta$ 變小。"
   ]
  },
  {
   "cell_type": "markdown",
   "metadata": {},
   "source": [
    "### Q3:  $\\alpha$ 和 $\\beta$ 有關聯性?  \n",
    "\n",
    "### Ans: 兩者互相增減，其中一個變大，則另一個會變小。"
   ]
  }
 ],
 "metadata": {
  "colab": {
   "name": "Day33.YOLO 細節理解 - 網路輸出的後處理_HW.ipynb",
   "provenance": []
  },
  "kernelspec": {
   "display_name": "Python 3",
   "language": "python",
   "name": "python3"
  },
  "language_info": {
   "codemirror_mode": {
    "name": "ipython",
    "version": 3
   },
   "file_extension": ".py",
   "mimetype": "text/x-python",
   "name": "python",
   "nbconvert_exporter": "python",
   "pygments_lexer": "ipython3",
   "version": "3.7.7"
  }
 },
 "nbformat": 4,
 "nbformat_minor": 1
}
